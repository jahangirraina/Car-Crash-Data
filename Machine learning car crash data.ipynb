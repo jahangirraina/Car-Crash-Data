{
 "cells": [
  {
   "cell_type": "markdown",
   "metadata": {},
   "source": [
    "# Machine Learning Car Crash Data"
   ]
  },
  {
   "cell_type": "code",
   "execution_count": 1,
   "metadata": {},
   "outputs": [],
   "source": [
    "import pandas as pd"
   ]
  },
  {
   "cell_type": "code",
   "execution_count": 2,
   "metadata": {},
   "outputs": [],
   "source": [
    "# reading data from the file\n",
    "\n",
    "df = pd.read_excel('crashdata.xlsx')"
   ]
  },
  {
   "cell_type": "code",
   "execution_count": 3,
   "metadata": {},
   "outputs": [
    {
     "data": {
      "text/html": [
       "<div>\n",
       "<style scoped>\n",
       "    .dataframe tbody tr th:only-of-type {\n",
       "        vertical-align: middle;\n",
       "    }\n",
       "\n",
       "    .dataframe tbody tr th {\n",
       "        vertical-align: top;\n",
       "    }\n",
       "\n",
       "    .dataframe thead th {\n",
       "        text-align: right;\n",
       "    }\n",
       "</style>\n",
       "<table border=\"1\" class=\"dataframe\">\n",
       "  <thead>\n",
       "    <tr style=\"text-align: right;\">\n",
       "      <th></th>\n",
       "      <th>Average EuroNCAP Lane Deviation Score</th>\n",
       "      <th>Driver Claim History Rating</th>\n",
       "      <th>No Year no claims</th>\n",
       "      <th>Gender</th>\n",
       "      <th>Frontal Impact (per 100,000 vehicles)</th>\n",
       "      <th>Rear Impact (per 100,000 vehicles)</th>\n",
       "      <th>Front Offset Impact (per 100,000 vehicles)</th>\n",
       "      <th>Side Impact (per 100,000 vehicles)</th>\n",
       "    </tr>\n",
       "  </thead>\n",
       "  <tbody>\n",
       "    <tr>\n",
       "      <th>0</th>\n",
       "      <td>-0.84</td>\n",
       "      <td>-0.24</td>\n",
       "      <td>3</td>\n",
       "      <td>Male</td>\n",
       "      <td>54.8</td>\n",
       "      <td>64.5</td>\n",
       "      <td>44.5</td>\n",
       "      <td>52.6</td>\n",
       "    </tr>\n",
       "    <tr>\n",
       "      <th>1</th>\n",
       "      <td>-0.38</td>\n",
       "      <td>-0.47</td>\n",
       "      <td>2</td>\n",
       "      <td>Male</td>\n",
       "      <td>62.7</td>\n",
       "      <td>43.7</td>\n",
       "      <td>44.7</td>\n",
       "      <td>52.6</td>\n",
       "    </tr>\n",
       "    <tr>\n",
       "      <th>2</th>\n",
       "      <td>0.89</td>\n",
       "      <td>0.59</td>\n",
       "      <td>2</td>\n",
       "      <td>Female</td>\n",
       "      <td>60.6</td>\n",
       "      <td>56.7</td>\n",
       "      <td>70.5</td>\n",
       "      <td>58.0</td>\n",
       "    </tr>\n",
       "    <tr>\n",
       "      <th>3</th>\n",
       "      <td>0.71</td>\n",
       "      <td>0.28</td>\n",
       "      <td>2</td>\n",
       "      <td>Female</td>\n",
       "      <td>62.7</td>\n",
       "      <td>56.7</td>\n",
       "      <td>54.7</td>\n",
       "      <td>58.0</td>\n",
       "    </tr>\n",
       "    <tr>\n",
       "      <th>4</th>\n",
       "      <td>-0.64</td>\n",
       "      <td>0.03</td>\n",
       "      <td>3</td>\n",
       "      <td>Male</td>\n",
       "      <td>41.6</td>\n",
       "      <td>46.3</td>\n",
       "      <td>38.4</td>\n",
       "      <td>36.3</td>\n",
       "    </tr>\n",
       "  </tbody>\n",
       "</table>\n",
       "</div>"
      ],
      "text/plain": [
       "   Average EuroNCAP Lane Deviation Score  Driver Claim History Rating  \\\n",
       "0                                  -0.84                        -0.24   \n",
       "1                                  -0.38                        -0.47   \n",
       "2                                   0.89                         0.59   \n",
       "3                                   0.71                         0.28   \n",
       "4                                  -0.64                         0.03   \n",
       "\n",
       "   No Year no claims  Gender  Frontal Impact (per 100,000 vehicles)  \\\n",
       "0                  3    Male                                   54.8   \n",
       "1                  2    Male                                   62.7   \n",
       "2                  2  Female                                   60.6   \n",
       "3                  2  Female                                   62.7   \n",
       "4                  3    Male                                   41.6   \n",
       "\n",
       "   Rear Impact (per 100,000 vehicles)  \\\n",
       "0                                64.5   \n",
       "1                                43.7   \n",
       "2                                56.7   \n",
       "3                                56.7   \n",
       "4                                46.3   \n",
       "\n",
       "   Front Offset Impact (per 100,000 vehicles)  \\\n",
       "0                                        44.5   \n",
       "1                                        44.7   \n",
       "2                                        70.5   \n",
       "3                                        54.7   \n",
       "4                                        38.4   \n",
       "\n",
       "   Side Impact (per 100,000 vehicles)  \n",
       "0                                52.6  \n",
       "1                                52.6  \n",
       "2                                58.0  \n",
       "3                                58.0  \n",
       "4                                36.3  "
      ]
     },
     "execution_count": 3,
     "metadata": {},
     "output_type": "execute_result"
    }
   ],
   "source": [
    "df.head()"
   ]
  },
  {
   "cell_type": "markdown",
   "metadata": {},
   "source": [
    "* <b>The following columns have crash frequencies:</b> \n",
    "        'Frontal Impact (per 100,000 vehicles)',\n",
    "        'Rear Impact (per 100,000 vehicles)',\n",
    "        'Front Offset Impact (per 100,000 vehicles)',\n",
    "        'Side Impact (per 100,000 vehicles)'\n",
    "<br>       \n",
    "* <b>The following columns have data on risk variables:</b>\n",
    "        'Average EuroNCAP Lane Deviation Score', \n",
    "        'Driver Claim History Rating',\n",
    "        'No Year no claims', \n",
    "        'Gender'"
   ]
  },
  {
   "cell_type": "code",
   "execution_count": 4,
   "metadata": {},
   "outputs": [
    {
     "data": {
      "text/plain": [
       "(600, 8)"
      ]
     },
     "execution_count": 4,
     "metadata": {},
     "output_type": "execute_result"
    }
   ],
   "source": [
    "df.shape"
   ]
  },
  {
   "cell_type": "code",
   "execution_count": 5,
   "metadata": {},
   "outputs": [
    {
     "data": {
      "text/plain": [
       "Average EuroNCAP Lane Deviation Score         0\n",
       "Driver Claim History Rating                   0\n",
       "No Year no claims                             0\n",
       "Gender                                        0\n",
       "Frontal Impact (per 100,000 vehicles)         0\n",
       "Rear Impact (per 100,000 vehicles)            0\n",
       "Front Offset Impact (per 100,000 vehicles)    0\n",
       "Side Impact (per 100,000 vehicles)            0\n",
       "dtype: int64"
      ]
     },
     "execution_count": 5,
     "metadata": {},
     "output_type": "execute_result"
    }
   ],
   "source": [
    "df.isnull().sum()"
   ]
  },
  {
   "cell_type": "code",
   "execution_count": 6,
   "metadata": {},
   "outputs": [
    {
     "data": {
      "text/html": [
       "<div>\n",
       "<style scoped>\n",
       "    .dataframe tbody tr th:only-of-type {\n",
       "        vertical-align: middle;\n",
       "    }\n",
       "\n",
       "    .dataframe tbody tr th {\n",
       "        vertical-align: top;\n",
       "    }\n",
       "\n",
       "    .dataframe thead th {\n",
       "        text-align: right;\n",
       "    }\n",
       "</style>\n",
       "<table border=\"1\" class=\"dataframe\">\n",
       "  <thead>\n",
       "    <tr style=\"text-align: right;\">\n",
       "      <th></th>\n",
       "      <th>Average EuroNCAP Lane Deviation Score</th>\n",
       "      <th>Driver Claim History Rating</th>\n",
       "      <th>No Year no claims</th>\n",
       "      <th>Frontal Impact (per 100,000 vehicles)</th>\n",
       "      <th>Rear Impact (per 100,000 vehicles)</th>\n",
       "      <th>Front Offset Impact (per 100,000 vehicles)</th>\n",
       "      <th>Side Impact (per 100,000 vehicles)</th>\n",
       "    </tr>\n",
       "  </thead>\n",
       "  <tbody>\n",
       "    <tr>\n",
       "      <th>Average EuroNCAP Lane Deviation Score</th>\n",
       "      <td>1.000000</td>\n",
       "      <td>0.171188</td>\n",
       "      <td>0.241446</td>\n",
       "      <td>0.373565</td>\n",
       "      <td>0.358877</td>\n",
       "      <td>0.337269</td>\n",
       "      <td>0.324627</td>\n",
       "    </tr>\n",
       "    <tr>\n",
       "      <th>Driver Claim History Rating</th>\n",
       "      <td>0.171188</td>\n",
       "      <td>1.000000</td>\n",
       "      <td>0.266628</td>\n",
       "      <td>0.060656</td>\n",
       "      <td>0.019449</td>\n",
       "      <td>0.053598</td>\n",
       "      <td>0.069826</td>\n",
       "    </tr>\n",
       "    <tr>\n",
       "      <th>No Year no claims</th>\n",
       "      <td>0.241446</td>\n",
       "      <td>0.266628</td>\n",
       "      <td>1.000000</td>\n",
       "      <td>0.206685</td>\n",
       "      <td>0.253586</td>\n",
       "      <td>0.196736</td>\n",
       "      <td>0.104932</td>\n",
       "    </tr>\n",
       "    <tr>\n",
       "      <th>Frontal Impact (per 100,000 vehicles)</th>\n",
       "      <td>0.373565</td>\n",
       "      <td>0.060656</td>\n",
       "      <td>0.206685</td>\n",
       "      <td>1.000000</td>\n",
       "      <td>0.628591</td>\n",
       "      <td>0.679276</td>\n",
       "      <td>0.690693</td>\n",
       "    </tr>\n",
       "    <tr>\n",
       "      <th>Rear Impact (per 100,000 vehicles)</th>\n",
       "      <td>0.358877</td>\n",
       "      <td>0.019449</td>\n",
       "      <td>0.253586</td>\n",
       "      <td>0.628591</td>\n",
       "      <td>1.000000</td>\n",
       "      <td>0.632666</td>\n",
       "      <td>0.569150</td>\n",
       "    </tr>\n",
       "    <tr>\n",
       "      <th>Front Offset Impact (per 100,000 vehicles)</th>\n",
       "      <td>0.337269</td>\n",
       "      <td>0.053598</td>\n",
       "      <td>0.196736</td>\n",
       "      <td>0.679276</td>\n",
       "      <td>0.632666</td>\n",
       "      <td>1.000000</td>\n",
       "      <td>0.649526</td>\n",
       "    </tr>\n",
       "    <tr>\n",
       "      <th>Side Impact (per 100,000 vehicles)</th>\n",
       "      <td>0.324627</td>\n",
       "      <td>0.069826</td>\n",
       "      <td>0.104932</td>\n",
       "      <td>0.690693</td>\n",
       "      <td>0.569150</td>\n",
       "      <td>0.649526</td>\n",
       "      <td>1.000000</td>\n",
       "    </tr>\n",
       "  </tbody>\n",
       "</table>\n",
       "</div>"
      ],
      "text/plain": [
       "                                            Average EuroNCAP Lane Deviation Score  \\\n",
       "Average EuroNCAP Lane Deviation Score                                    1.000000   \n",
       "Driver Claim History Rating                                              0.171188   \n",
       "No Year no claims                                                        0.241446   \n",
       "Frontal Impact (per 100,000 vehicles)                                    0.373565   \n",
       "Rear Impact (per 100,000 vehicles)                                       0.358877   \n",
       "Front Offset Impact (per 100,000 vehicles)                               0.337269   \n",
       "Side Impact (per 100,000 vehicles)                                       0.324627   \n",
       "\n",
       "                                            Driver Claim History Rating  \\\n",
       "Average EuroNCAP Lane Deviation Score                          0.171188   \n",
       "Driver Claim History Rating                                    1.000000   \n",
       "No Year no claims                                              0.266628   \n",
       "Frontal Impact (per 100,000 vehicles)                          0.060656   \n",
       "Rear Impact (per 100,000 vehicles)                             0.019449   \n",
       "Front Offset Impact (per 100,000 vehicles)                     0.053598   \n",
       "Side Impact (per 100,000 vehicles)                             0.069826   \n",
       "\n",
       "                                            No Year no claims  \\\n",
       "Average EuroNCAP Lane Deviation Score                0.241446   \n",
       "Driver Claim History Rating                          0.266628   \n",
       "No Year no claims                                    1.000000   \n",
       "Frontal Impact (per 100,000 vehicles)                0.206685   \n",
       "Rear Impact (per 100,000 vehicles)                   0.253586   \n",
       "Front Offset Impact (per 100,000 vehicles)           0.196736   \n",
       "Side Impact (per 100,000 vehicles)                   0.104932   \n",
       "\n",
       "                                            Frontal Impact (per 100,000 vehicles)  \\\n",
       "Average EuroNCAP Lane Deviation Score                                    0.373565   \n",
       "Driver Claim History Rating                                              0.060656   \n",
       "No Year no claims                                                        0.206685   \n",
       "Frontal Impact (per 100,000 vehicles)                                    1.000000   \n",
       "Rear Impact (per 100,000 vehicles)                                       0.628591   \n",
       "Front Offset Impact (per 100,000 vehicles)                               0.679276   \n",
       "Side Impact (per 100,000 vehicles)                                       0.690693   \n",
       "\n",
       "                                            Rear Impact (per 100,000 vehicles)  \\\n",
       "Average EuroNCAP Lane Deviation Score                                 0.358877   \n",
       "Driver Claim History Rating                                           0.019449   \n",
       "No Year no claims                                                     0.253586   \n",
       "Frontal Impact (per 100,000 vehicles)                                 0.628591   \n",
       "Rear Impact (per 100,000 vehicles)                                    1.000000   \n",
       "Front Offset Impact (per 100,000 vehicles)                            0.632666   \n",
       "Side Impact (per 100,000 vehicles)                                    0.569150   \n",
       "\n",
       "                                            Front Offset Impact (per 100,000 vehicles)  \\\n",
       "Average EuroNCAP Lane Deviation Score                                         0.337269   \n",
       "Driver Claim History Rating                                                   0.053598   \n",
       "No Year no claims                                                             0.196736   \n",
       "Frontal Impact (per 100,000 vehicles)                                         0.679276   \n",
       "Rear Impact (per 100,000 vehicles)                                            0.632666   \n",
       "Front Offset Impact (per 100,000 vehicles)                                    1.000000   \n",
       "Side Impact (per 100,000 vehicles)                                            0.649526   \n",
       "\n",
       "                                            Side Impact (per 100,000 vehicles)  \n",
       "Average EuroNCAP Lane Deviation Score                                 0.324627  \n",
       "Driver Claim History Rating                                           0.069826  \n",
       "No Year no claims                                                     0.104932  \n",
       "Frontal Impact (per 100,000 vehicles)                                 0.690693  \n",
       "Rear Impact (per 100,000 vehicles)                                    0.569150  \n",
       "Front Offset Impact (per 100,000 vehicles)                            0.649526  \n",
       "Side Impact (per 100,000 vehicles)                                    1.000000  "
      ]
     },
     "execution_count": 6,
     "metadata": {},
     "output_type": "execute_result"
    }
   ],
   "source": [
    "corr=df.corr()\n",
    "corr"
   ]
  },
  {
   "cell_type": "code",
   "execution_count": 7,
   "metadata": {},
   "outputs": [],
   "source": [
    "import seaborn as sns\n",
    "import matplotlib.pyplot as plt\n",
    "import numpy as np"
   ]
  },
  {
   "cell_type": "code",
   "execution_count": 8,
   "metadata": {},
   "outputs": [
    {
     "data": {
      "image/png": "[encoded data removed]",
      "text/plain": [
       "<Figure size 576x432 with 2 Axes>"
      ]
     },
     "metadata": {},
     "output_type": "display_data"
    }
   ],
   "source": [
    "sns.set(style='white')\n",
    "\n",
    "mask = np.zeros_like(corr, dtype=np.bool)\n",
    "\n",
    "mask[np.triu_indices_from(mask)] = True\n",
    "\n",
    "\n",
    "f, ax = plt.subplots(figsize=(8,6))\n",
    "\n",
    "cmap = sns.diverging_palette(10,220, as_cmap=True)\n",
    "\n",
    "\n",
    "ax = sns.heatmap(corr, mask=mask, cmap=cmap, vmax= .5, annot=True, annot_kws= {'size':14}, square=True, xticklabels=True, yticklabels=True, linewidths=.5, \n",
    "           cbar_kws={'shrink': .5}, ax=ax)\n",
    "ax.set_title('Correlation between variables', fontsize=20);"
   ]
  },
  {
   "cell_type": "code",
   "execution_count": 9,
   "metadata": {},
   "outputs": [
    {
     "data": {
      "text/html": [
       "<div>\n",
       "<style scoped>\n",
       "    .dataframe tbody tr th:only-of-type {\n",
       "        vertical-align: middle;\n",
       "    }\n",
       "\n",
       "    .dataframe tbody tr th {\n",
       "        vertical-align: top;\n",
       "    }\n",
       "\n",
       "    .dataframe thead th {\n",
       "        text-align: right;\n",
       "    }\n",
       "</style>\n",
       "<table border=\"1\" class=\"dataframe\">\n",
       "  <thead>\n",
       "    <tr style=\"text-align: right;\">\n",
       "      <th></th>\n",
       "      <th>Average EuroNCAP Lane Deviation Score</th>\n",
       "      <th>Driver Claim History Rating</th>\n",
       "      <th>No Year no claims</th>\n",
       "      <th>Frontal Impact (per 100,000 vehicles)</th>\n",
       "      <th>Rear Impact (per 100,000 vehicles)</th>\n",
       "      <th>Front Offset Impact (per 100,000 vehicles)</th>\n",
       "      <th>Side Impact (per 100,000 vehicles)</th>\n",
       "    </tr>\n",
       "  </thead>\n",
       "  <tbody>\n",
       "    <tr>\n",
       "      <th>count</th>\n",
       "      <td>600.000000</td>\n",
       "      <td>600.000000</td>\n",
       "      <td>600.000000</td>\n",
       "      <td>600.000000</td>\n",
       "      <td>600.000000</td>\n",
       "      <td>600.000000</td>\n",
       "      <td>600.000000</td>\n",
       "    </tr>\n",
       "    <tr>\n",
       "      <th>mean</th>\n",
       "      <td>0.096533</td>\n",
       "      <td>0.004917</td>\n",
       "      <td>1.781667</td>\n",
       "      <td>51.901833</td>\n",
       "      <td>52.384833</td>\n",
       "      <td>51.849000</td>\n",
       "      <td>51.763333</td>\n",
       "    </tr>\n",
       "    <tr>\n",
       "      <th>std</th>\n",
       "      <td>0.670280</td>\n",
       "      <td>0.705513</td>\n",
       "      <td>1.267547</td>\n",
       "      <td>10.102983</td>\n",
       "      <td>9.726455</td>\n",
       "      <td>9.414736</td>\n",
       "      <td>9.706179</td>\n",
       "    </tr>\n",
       "    <tr>\n",
       "      <th>min</th>\n",
       "      <td>-2.230000</td>\n",
       "      <td>-2.620000</td>\n",
       "      <td>0.000000</td>\n",
       "      <td>28.300000</td>\n",
       "      <td>25.500000</td>\n",
       "      <td>31.800000</td>\n",
       "      <td>26.000000</td>\n",
       "    </tr>\n",
       "    <tr>\n",
       "      <th>25%</th>\n",
       "      <td>-0.372500</td>\n",
       "      <td>-0.300000</td>\n",
       "      <td>0.000000</td>\n",
       "      <td>44.200000</td>\n",
       "      <td>44.300000</td>\n",
       "      <td>44.500000</td>\n",
       "      <td>44.400000</td>\n",
       "    </tr>\n",
       "    <tr>\n",
       "      <th>50%</th>\n",
       "      <td>0.210000</td>\n",
       "      <td>0.030000</td>\n",
       "      <td>2.000000</td>\n",
       "      <td>52.100000</td>\n",
       "      <td>54.100000</td>\n",
       "      <td>51.300000</td>\n",
       "      <td>52.600000</td>\n",
       "    </tr>\n",
       "    <tr>\n",
       "      <th>75%</th>\n",
       "      <td>0.510000</td>\n",
       "      <td>0.440000</td>\n",
       "      <td>3.000000</td>\n",
       "      <td>60.100000</td>\n",
       "      <td>59.900000</td>\n",
       "      <td>58.375000</td>\n",
       "      <td>58.650000</td>\n",
       "    </tr>\n",
       "    <tr>\n",
       "      <th>max</th>\n",
       "      <td>1.360000</td>\n",
       "      <td>1.190000</td>\n",
       "      <td>3.000000</td>\n",
       "      <td>76.000000</td>\n",
       "      <td>67.100000</td>\n",
       "      <td>75.500000</td>\n",
       "      <td>74.200000</td>\n",
       "    </tr>\n",
       "  </tbody>\n",
       "</table>\n",
       "</div>"
      ],
      "text/plain": [
       "       Average EuroNCAP Lane Deviation Score  Driver Claim History Rating  \\\n",
       "count                             600.000000                   600.000000   \n",
       "mean                                0.096533                     0.004917   \n",
       "std                                 0.670280                     0.705513   \n",
       "min                                -2.230000                    -2.620000   \n",
       "25%                                -0.372500                    -0.300000   \n",
       "50%                                 0.210000                     0.030000   \n",
       "75%                                 0.510000                     0.440000   \n",
       "max                                 1.360000                     1.190000   \n",
       "\n",
       "       No Year no claims  Frontal Impact (per 100,000 vehicles)  \\\n",
       "count         600.000000                             600.000000   \n",
       "mean            1.781667                              51.901833   \n",
       "std             1.267547                              10.102983   \n",
       "min             0.000000                              28.300000   \n",
       "25%             0.000000                              44.200000   \n",
       "50%             2.000000                              52.100000   \n",
       "75%             3.000000                              60.100000   \n",
       "max             3.000000                              76.000000   \n",
       "\n",
       "       Rear Impact (per 100,000 vehicles)  \\\n",
       "count                          600.000000   \n",
       "mean                            52.384833   \n",
       "std                              9.726455   \n",
       "min                             25.500000   \n",
       "25%                             44.300000   \n",
       "50%                             54.100000   \n",
       "75%                             59.900000   \n",
       "max                             67.100000   \n",
       "\n",
       "       Front Offset Impact (per 100,000 vehicles)  \\\n",
       "count                                  600.000000   \n",
       "mean                                    51.849000   \n",
       "std                                      9.414736   \n",
       "min                                     31.800000   \n",
       "25%                                     44.500000   \n",
       "50%                                     51.300000   \n",
       "75%                                     58.375000   \n",
       "max                                     75.500000   \n",
       "\n",
       "       Side Impact (per 100,000 vehicles)  \n",
       "count                          600.000000  \n",
       "mean                            51.763333  \n",
       "std                              9.706179  \n",
       "min                             26.000000  \n",
       "25%                             44.400000  \n",
       "50%                             52.600000  \n",
       "75%                             58.650000  \n",
       "max                             74.200000  "
      ]
     },
     "execution_count": 9,
     "metadata": {},
     "output_type": "execute_result"
    }
   ],
   "source": [
    "df.describe()"
   ]
  },
  {
   "cell_type": "code",
   "execution_count": 10,
   "metadata": {},
   "outputs": [],
   "source": [
    "# Add crash frequencies to get a bigger picture"
   ]
  },
  {
   "cell_type": "code",
   "execution_count": 11,
   "metadata": {},
   "outputs": [],
   "source": [
    "df['Total Impact'] = df['Frontal Impact (per 100,000 vehicles)'] + df['Rear Impact (per 100,000 vehicles)'] + df['Front Offset Impact (per 100,000 vehicles)'] + df['Side Impact (per 100,000 vehicles)']"
   ]
  },
  {
   "cell_type": "code",
   "execution_count": 12,
   "metadata": {},
   "outputs": [
    {
     "data": {
      "text/html": [
       "<div>\n",
       "<style scoped>\n",
       "    .dataframe tbody tr th:only-of-type {\n",
       "        vertical-align: middle;\n",
       "    }\n",
       "\n",
       "    .dataframe tbody tr th {\n",
       "        vertical-align: top;\n",
       "    }\n",
       "\n",
       "    .dataframe thead th {\n",
       "        text-align: right;\n",
       "    }\n",
       "</style>\n",
       "<table border=\"1\" class=\"dataframe\">\n",
       "  <thead>\n",
       "    <tr style=\"text-align: right;\">\n",
       "      <th></th>\n",
       "      <th>Average EuroNCAP Lane Deviation Score</th>\n",
       "      <th>Driver Claim History Rating</th>\n",
       "      <th>No Year no claims</th>\n",
       "      <th>Gender</th>\n",
       "      <th>Frontal Impact (per 100,000 vehicles)</th>\n",
       "      <th>Rear Impact (per 100,000 vehicles)</th>\n",
       "      <th>Front Offset Impact (per 100,000 vehicles)</th>\n",
       "      <th>Side Impact (per 100,000 vehicles)</th>\n",
       "      <th>Total Impact</th>\n",
       "    </tr>\n",
       "  </thead>\n",
       "  <tbody>\n",
       "    <tr>\n",
       "      <th>0</th>\n",
       "      <td>-0.84</td>\n",
       "      <td>-0.24</td>\n",
       "      <td>3</td>\n",
       "      <td>Male</td>\n",
       "      <td>54.8</td>\n",
       "      <td>64.5</td>\n",
       "      <td>44.5</td>\n",
       "      <td>52.6</td>\n",
       "      <td>216.4</td>\n",
       "    </tr>\n",
       "    <tr>\n",
       "      <th>1</th>\n",
       "      <td>-0.38</td>\n",
       "      <td>-0.47</td>\n",
       "      <td>2</td>\n",
       "      <td>Male</td>\n",
       "      <td>62.7</td>\n",
       "      <td>43.7</td>\n",
       "      <td>44.7</td>\n",
       "      <td>52.6</td>\n",
       "      <td>203.7</td>\n",
       "    </tr>\n",
       "    <tr>\n",
       "      <th>2</th>\n",
       "      <td>0.89</td>\n",
       "      <td>0.59</td>\n",
       "      <td>2</td>\n",
       "      <td>Female</td>\n",
       "      <td>60.6</td>\n",
       "      <td>56.7</td>\n",
       "      <td>70.5</td>\n",
       "      <td>58.0</td>\n",
       "      <td>245.8</td>\n",
       "    </tr>\n",
       "    <tr>\n",
       "      <th>3</th>\n",
       "      <td>0.71</td>\n",
       "      <td>0.28</td>\n",
       "      <td>2</td>\n",
       "      <td>Female</td>\n",
       "      <td>62.7</td>\n",
       "      <td>56.7</td>\n",
       "      <td>54.7</td>\n",
       "      <td>58.0</td>\n",
       "      <td>232.1</td>\n",
       "    </tr>\n",
       "    <tr>\n",
       "      <th>4</th>\n",
       "      <td>-0.64</td>\n",
       "      <td>0.03</td>\n",
       "      <td>3</td>\n",
       "      <td>Male</td>\n",
       "      <td>41.6</td>\n",
       "      <td>46.3</td>\n",
       "      <td>38.4</td>\n",
       "      <td>36.3</td>\n",
       "      <td>162.6</td>\n",
       "    </tr>\n",
       "  </tbody>\n",
       "</table>\n",
       "</div>"
      ],
      "text/plain": [
       "   Average EuroNCAP Lane Deviation Score  Driver Claim History Rating  \\\n",
       "0                                  -0.84                        -0.24   \n",
       "1                                  -0.38                        -0.47   \n",
       "2                                   0.89                         0.59   \n",
       "3                                   0.71                         0.28   \n",
       "4                                  -0.64                         0.03   \n",
       "\n",
       "   No Year no claims  Gender  Frontal Impact (per 100,000 vehicles)  \\\n",
       "0                  3    Male                                   54.8   \n",
       "1                  2    Male                                   62.7   \n",
       "2                  2  Female                                   60.6   \n",
       "3                  2  Female                                   62.7   \n",
       "4                  3    Male                                   41.6   \n",
       "\n",
       "   Rear Impact (per 100,000 vehicles)  \\\n",
       "0                                64.5   \n",
       "1                                43.7   \n",
       "2                                56.7   \n",
       "3                                56.7   \n",
       "4                                46.3   \n",
       "\n",
       "   Front Offset Impact (per 100,000 vehicles)  \\\n",
       "0                                        44.5   \n",
       "1                                        44.7   \n",
       "2                                        70.5   \n",
       "3                                        54.7   \n",
       "4                                        38.4   \n",
       "\n",
       "   Side Impact (per 100,000 vehicles)  Total Impact  \n",
       "0                                52.6         216.4  \n",
       "1                                52.6         203.7  \n",
       "2                                58.0         245.8  \n",
       "3                                58.0         232.1  \n",
       "4                                36.3         162.6  "
      ]
     },
     "execution_count": 12,
     "metadata": {},
     "output_type": "execute_result"
    }
   ],
   "source": [
    "df.head()"
   ]
  },
  {
   "cell_type": "code",
   "execution_count": 13,
   "metadata": {},
   "outputs": [],
   "source": [
    "df['tcp'] = df['Total Impact']/400000"
   ]
  },
  {
   "cell_type": "code",
   "execution_count": 14,
   "metadata": {},
   "outputs": [
    {
     "data": {
      "text/html": [
       "<div>\n",
       "<style scoped>\n",
       "    .dataframe tbody tr th:only-of-type {\n",
       "        vertical-align: middle;\n",
       "    }\n",
       "\n",
       "    .dataframe tbody tr th {\n",
       "        vertical-align: top;\n",
       "    }\n",
       "\n",
       "    .dataframe thead th {\n",
       "        text-align: right;\n",
       "    }\n",
       "</style>\n",
       "<table border=\"1\" class=\"dataframe\">\n",
       "  <thead>\n",
       "    <tr style=\"text-align: right;\">\n",
       "      <th></th>\n",
       "      <th>Average EuroNCAP Lane Deviation Score</th>\n",
       "      <th>Driver Claim History Rating</th>\n",
       "      <th>No Year no claims</th>\n",
       "      <th>Gender</th>\n",
       "      <th>Frontal Impact (per 100,000 vehicles)</th>\n",
       "      <th>Rear Impact (per 100,000 vehicles)</th>\n",
       "      <th>Front Offset Impact (per 100,000 vehicles)</th>\n",
       "      <th>Side Impact (per 100,000 vehicles)</th>\n",
       "      <th>Total Impact</th>\n",
       "      <th>tcp</th>\n",
       "    </tr>\n",
       "  </thead>\n",
       "  <tbody>\n",
       "    <tr>\n",
       "      <th>0</th>\n",
       "      <td>-0.84</td>\n",
       "      <td>-0.24</td>\n",
       "      <td>3</td>\n",
       "      <td>Male</td>\n",
       "      <td>54.8</td>\n",
       "      <td>64.5</td>\n",
       "      <td>44.5</td>\n",
       "      <td>52.6</td>\n",
       "      <td>216.4</td>\n",
       "      <td>0.000541</td>\n",
       "    </tr>\n",
       "    <tr>\n",
       "      <th>1</th>\n",
       "      <td>-0.38</td>\n",
       "      <td>-0.47</td>\n",
       "      <td>2</td>\n",
       "      <td>Male</td>\n",
       "      <td>62.7</td>\n",
       "      <td>43.7</td>\n",
       "      <td>44.7</td>\n",
       "      <td>52.6</td>\n",
       "      <td>203.7</td>\n",
       "      <td>0.000509</td>\n",
       "    </tr>\n",
       "    <tr>\n",
       "      <th>2</th>\n",
       "      <td>0.89</td>\n",
       "      <td>0.59</td>\n",
       "      <td>2</td>\n",
       "      <td>Female</td>\n",
       "      <td>60.6</td>\n",
       "      <td>56.7</td>\n",
       "      <td>70.5</td>\n",
       "      <td>58.0</td>\n",
       "      <td>245.8</td>\n",
       "      <td>0.000615</td>\n",
       "    </tr>\n",
       "    <tr>\n",
       "      <th>3</th>\n",
       "      <td>0.71</td>\n",
       "      <td>0.28</td>\n",
       "      <td>2</td>\n",
       "      <td>Female</td>\n",
       "      <td>62.7</td>\n",
       "      <td>56.7</td>\n",
       "      <td>54.7</td>\n",
       "      <td>58.0</td>\n",
       "      <td>232.1</td>\n",
       "      <td>0.000580</td>\n",
       "    </tr>\n",
       "    <tr>\n",
       "      <th>4</th>\n",
       "      <td>-0.64</td>\n",
       "      <td>0.03</td>\n",
       "      <td>3</td>\n",
       "      <td>Male</td>\n",
       "      <td>41.6</td>\n",
       "      <td>46.3</td>\n",
       "      <td>38.4</td>\n",
       "      <td>36.3</td>\n",
       "      <td>162.6</td>\n",
       "      <td>0.000407</td>\n",
       "    </tr>\n",
       "  </tbody>\n",
       "</table>\n",
       "</div>"
      ],
      "text/plain": [
       "   Average EuroNCAP Lane Deviation Score  Driver Claim History Rating  \\\n",
       "0                                  -0.84                        -0.24   \n",
       "1                                  -0.38                        -0.47   \n",
       "2                                   0.89                         0.59   \n",
       "3                                   0.71                         0.28   \n",
       "4                                  -0.64                         0.03   \n",
       "\n",
       "   No Year no claims  Gender  Frontal Impact (per 100,000 vehicles)  \\\n",
       "0                  3    Male                                   54.8   \n",
       "1                  2    Male                                   62.7   \n",
       "2                  2  Female                                   60.6   \n",
       "3                  2  Female                                   62.7   \n",
       "4                  3    Male                                   41.6   \n",
       "\n",
       "   Rear Impact (per 100,000 vehicles)  \\\n",
       "0                                64.5   \n",
       "1                                43.7   \n",
       "2                                56.7   \n",
       "3                                56.7   \n",
       "4                                46.3   \n",
       "\n",
       "   Front Offset Impact (per 100,000 vehicles)  \\\n",
       "0                                        44.5   \n",
       "1                                        44.7   \n",
       "2                                        70.5   \n",
       "3                                        54.7   \n",
       "4                                        38.4   \n",
       "\n",
       "   Side Impact (per 100,000 vehicles)  Total Impact       tcp  \n",
       "0                                52.6         216.4  0.000541  \n",
       "1                                52.6         203.7  0.000509  \n",
       "2                                58.0         245.8  0.000615  \n",
       "3                                58.0         232.1  0.000580  \n",
       "4                                36.3         162.6  0.000407  "
      ]
     },
     "execution_count": 14,
     "metadata": {},
     "output_type": "execute_result"
    }
   ],
   "source": [
    "df.head()"
   ]
  },
  {
   "cell_type": "code",
   "execution_count": 15,
   "metadata": {},
   "outputs": [
    {
     "data": {
      "text/plain": [
       "<matplotlib.axes._subplots.AxesSubplot at 0x7fbc0983f510>"
      ]
     },
     "execution_count": 15,
     "metadata": {},
     "output_type": "execute_result"
    },
    {
     "data": {
      "image/png": "[encoded data removed]",
      "text/plain": [
       "<Figure size 432x288 with 1 Axes>"
      ]
     },
     "metadata": {},
     "output_type": "display_data"
    }
   ],
   "source": [
    "sns.distplot(df['tcp'])"
   ]
  },
  {
   "cell_type": "code",
   "execution_count": 16,
   "metadata": {},
   "outputs": [
    {
     "data": {
      "text/plain": [
       "count    600.000000\n",
       "mean       0.000520\n",
       "std        0.000083\n",
       "min        0.000333\n",
       "25%        0.000452\n",
       "50%        0.000521\n",
       "75%        0.000585\n",
       "max        0.000703\n",
       "Name: tcp, dtype: float64"
      ]
     },
     "execution_count": 16,
     "metadata": {},
     "output_type": "execute_result"
    }
   ],
   "source": [
    "df['tcp'].describe()\n",
    "# lets classify drivers into risky (label=1) and not-risky (label =0), \n",
    "# with risky ones being those above mean/avg probability of 0.00052"
   ]
  },
  {
   "cell_type": "code",
   "execution_count": 17,
   "metadata": {},
   "outputs": [],
   "source": [
    "# inserting class labels now\n",
    "import numpy as np\n",
    "df['Label'] = np.where(df['tcp']>=0.00052, 1, 0)   # so anything above average"
   ]
  },
  {
   "cell_type": "code",
   "execution_count": 18,
   "metadata": {},
   "outputs": [
    {
     "data": {
      "text/html": [
       "<div>\n",
       "<style scoped>\n",
       "    .dataframe tbody tr th:only-of-type {\n",
       "        vertical-align: middle;\n",
       "    }\n",
       "\n",
       "    .dataframe tbody tr th {\n",
       "        vertical-align: top;\n",
       "    }\n",
       "\n",
       "    .dataframe thead th {\n",
       "        text-align: right;\n",
       "    }\n",
       "</style>\n",
       "<table border=\"1\" class=\"dataframe\">\n",
       "  <thead>\n",
       "    <tr style=\"text-align: right;\">\n",
       "      <th></th>\n",
       "      <th>Average EuroNCAP Lane Deviation Score</th>\n",
       "      <th>Driver Claim History Rating</th>\n",
       "      <th>No Year no claims</th>\n",
       "      <th>Gender</th>\n",
       "      <th>Frontal Impact (per 100,000 vehicles)</th>\n",
       "      <th>Rear Impact (per 100,000 vehicles)</th>\n",
       "      <th>Front Offset Impact (per 100,000 vehicles)</th>\n",
       "      <th>Side Impact (per 100,000 vehicles)</th>\n",
       "      <th>Total Impact</th>\n",
       "      <th>tcp</th>\n",
       "      <th>Label</th>\n",
       "    </tr>\n",
       "  </thead>\n",
       "  <tbody>\n",
       "    <tr>\n",
       "      <th>0</th>\n",
       "      <td>-0.84</td>\n",
       "      <td>-0.24</td>\n",
       "      <td>3</td>\n",
       "      <td>Male</td>\n",
       "      <td>54.8</td>\n",
       "      <td>64.5</td>\n",
       "      <td>44.5</td>\n",
       "      <td>52.6</td>\n",
       "      <td>216.4</td>\n",
       "      <td>0.000541</td>\n",
       "      <td>1</td>\n",
       "    </tr>\n",
       "    <tr>\n",
       "      <th>1</th>\n",
       "      <td>-0.38</td>\n",
       "      <td>-0.47</td>\n",
       "      <td>2</td>\n",
       "      <td>Male</td>\n",
       "      <td>62.7</td>\n",
       "      <td>43.7</td>\n",
       "      <td>44.7</td>\n",
       "      <td>52.6</td>\n",
       "      <td>203.7</td>\n",
       "      <td>0.000509</td>\n",
       "      <td>0</td>\n",
       "    </tr>\n",
       "    <tr>\n",
       "      <th>2</th>\n",
       "      <td>0.89</td>\n",
       "      <td>0.59</td>\n",
       "      <td>2</td>\n",
       "      <td>Female</td>\n",
       "      <td>60.6</td>\n",
       "      <td>56.7</td>\n",
       "      <td>70.5</td>\n",
       "      <td>58.0</td>\n",
       "      <td>245.8</td>\n",
       "      <td>0.000615</td>\n",
       "      <td>1</td>\n",
       "    </tr>\n",
       "    <tr>\n",
       "      <th>3</th>\n",
       "      <td>0.71</td>\n",
       "      <td>0.28</td>\n",
       "      <td>2</td>\n",
       "      <td>Female</td>\n",
       "      <td>62.7</td>\n",
       "      <td>56.7</td>\n",
       "      <td>54.7</td>\n",
       "      <td>58.0</td>\n",
       "      <td>232.1</td>\n",
       "      <td>0.000580</td>\n",
       "      <td>1</td>\n",
       "    </tr>\n",
       "    <tr>\n",
       "      <th>4</th>\n",
       "      <td>-0.64</td>\n",
       "      <td>0.03</td>\n",
       "      <td>3</td>\n",
       "      <td>Male</td>\n",
       "      <td>41.6</td>\n",
       "      <td>46.3</td>\n",
       "      <td>38.4</td>\n",
       "      <td>36.3</td>\n",
       "      <td>162.6</td>\n",
       "      <td>0.000407</td>\n",
       "      <td>0</td>\n",
       "    </tr>\n",
       "  </tbody>\n",
       "</table>\n",
       "</div>"
      ],
      "text/plain": [
       "   Average EuroNCAP Lane Deviation Score  Driver Claim History Rating  \\\n",
       "0                                  -0.84                        -0.24   \n",
       "1                                  -0.38                        -0.47   \n",
       "2                                   0.89                         0.59   \n",
       "3                                   0.71                         0.28   \n",
       "4                                  -0.64                         0.03   \n",
       "\n",
       "   No Year no claims  Gender  Frontal Impact (per 100,000 vehicles)  \\\n",
       "0                  3    Male                                   54.8   \n",
       "1                  2    Male                                   62.7   \n",
       "2                  2  Female                                   60.6   \n",
       "3                  2  Female                                   62.7   \n",
       "4                  3    Male                                   41.6   \n",
       "\n",
       "   Rear Impact (per 100,000 vehicles)  \\\n",
       "0                                64.5   \n",
       "1                                43.7   \n",
       "2                                56.7   \n",
       "3                                56.7   \n",
       "4                                46.3   \n",
       "\n",
       "   Front Offset Impact (per 100,000 vehicles)  \\\n",
       "0                                        44.5   \n",
       "1                                        44.7   \n",
       "2                                        70.5   \n",
       "3                                        54.7   \n",
       "4                                        38.4   \n",
       "\n",
       "   Side Impact (per 100,000 vehicles)  Total Impact       tcp  Label  \n",
       "0                                52.6         216.4  0.000541      1  \n",
       "1                                52.6         203.7  0.000509      0  \n",
       "2                                58.0         245.8  0.000615      1  \n",
       "3                                58.0         232.1  0.000580      1  \n",
       "4                                36.3         162.6  0.000407      0  "
      ]
     },
     "execution_count": 18,
     "metadata": {},
     "output_type": "execute_result"
    }
   ],
   "source": [
    "df.head()"
   ]
  },
  {
   "cell_type": "code",
   "execution_count": 19,
   "metadata": {},
   "outputs": [
    {
     "data": {
      "text/plain": [
       "1    303\n",
       "0    297\n",
       "Name: Label, dtype: int64"
      ]
     },
     "execution_count": 19,
     "metadata": {},
     "output_type": "execute_result"
    }
   ],
   "source": [
    "df.Label.value_counts()"
   ]
  },
  {
   "cell_type": "code",
   "execution_count": 20,
   "metadata": {},
   "outputs": [
    {
     "data": {
      "image/png": "[encoded data removed]",
      "text/plain": [
       "<Figure size 432x288 with 1 Axes>"
      ]
     },
     "metadata": {},
     "output_type": "display_data"
    }
   ],
   "source": [
    "chart=sns.countplot(x='Label', data = df)\n",
    "for p in chart.patches:\n",
    "    height = p.get_height()\n",
    "    chart.text(p.get_x()+p.get_width()/2.,\n",
    "            height + 3,\n",
    "            '{:1.0f}'.format(height),\n",
    "            ha=\"center\") "
   ]
  },
  {
   "cell_type": "code",
   "execution_count": 21,
   "metadata": {},
   "outputs": [
    {
     "data": {
      "text/plain": [
       "Text(0, 0.5, 'Number of Cases')"
      ]
     },
     "execution_count": 21,
     "metadata": {},
     "output_type": "execute_result"
    },
    {
     "data": {
      "image/png": "[encoded data removed]",
      "text/plain": [
       "<Figure size 432x288 with 1 Axes>"
      ]
     },
     "metadata": {},
     "output_type": "display_data"
    }
   ],
   "source": [
    "pd.crosstab(df.Gender,df.Label).plot(kind='bar')\n",
    "plt.title('gender vs Label')\n",
    "plt.xlabel('gender')\n",
    "plt.ylabel('Number of Cases')"
   ]
  },
  {
   "cell_type": "code",
   "execution_count": 22,
   "metadata": {},
   "outputs": [
    {
     "data": {
      "text/plain": [
       "Index(['Average EuroNCAP Lane Deviation Score', 'Driver Claim History Rating',\n",
       "       'No Year no claims', 'Gender', 'Frontal Impact (per 100,000 vehicles)',\n",
       "       'Rear Impact (per 100,000 vehicles)',\n",
       "       'Front Offset Impact (per 100,000 vehicles)',\n",
       "       'Side Impact (per 100,000 vehicles)', 'Total Impact', 'tcp', 'Label'],\n",
       "      dtype='object')"
      ]
     },
     "execution_count": 22,
     "metadata": {},
     "output_type": "execute_result"
    }
   ],
   "source": [
    "df.columns"
   ]
  },
  {
   "cell_type": "code",
   "execution_count": 23,
   "metadata": {},
   "outputs": [
    {
     "data": {
      "text/plain": [
       "Text(0, 0.5, 'Number of Cases')"
      ]
     },
     "execution_count": 23,
     "metadata": {},
     "output_type": "execute_result"
    },
    {
     "data": {
      "image/png": "[encoded data removed]",
      "text/plain": [
       "<Figure size 432x288 with 1 Axes>"
      ]
     },
     "metadata": {},
     "output_type": "display_data"
    }
   ],
   "source": [
    "pd.crosstab(df['No Year no claims'],df.Label).plot(kind='bar')\n",
    "plt.title('number-years-no-claim vs Label')\n",
    "plt.xlabel('number-years-no-claim')\n",
    "plt.ylabel('Number of Cases')\n",
    "\n",
    "# this chart says that as the number of no-claim years increases, the propensity to crash also increases. \n",
    "# so there may be no such thing as a safe driver for life\n",
    "# in other words 'if it can happen, it will happen'"
   ]
  },
  {
   "cell_type": "code",
   "execution_count": 24,
   "metadata": {},
   "outputs": [],
   "source": [
    "dfl= pd.crosstab(df['No Year no claims'],df.Label)"
   ]
  },
  {
   "cell_type": "code",
   "execution_count": 25,
   "metadata": {},
   "outputs": [
    {
     "data": {
      "text/html": [
       "<div>\n",
       "<style scoped>\n",
       "    .dataframe tbody tr th:only-of-type {\n",
       "        vertical-align: middle;\n",
       "    }\n",
       "\n",
       "    .dataframe tbody tr th {\n",
       "        vertical-align: top;\n",
       "    }\n",
       "\n",
       "    .dataframe thead th {\n",
       "        text-align: right;\n",
       "    }\n",
       "</style>\n",
       "<table border=\"1\" class=\"dataframe\">\n",
       "  <thead>\n",
       "    <tr style=\"text-align: right;\">\n",
       "      <th>Label</th>\n",
       "      <th>0</th>\n",
       "      <th>1</th>\n",
       "      <th>percent risky</th>\n",
       "    </tr>\n",
       "    <tr>\n",
       "      <th>No Year no claims</th>\n",
       "      <th></th>\n",
       "      <th></th>\n",
       "      <th></th>\n",
       "    </tr>\n",
       "  </thead>\n",
       "  <tbody>\n",
       "    <tr>\n",
       "      <th>0</th>\n",
       "      <td>113</td>\n",
       "      <td>74</td>\n",
       "      <td>39</td>\n",
       "    </tr>\n",
       "    <tr>\n",
       "      <th>2</th>\n",
       "      <td>87</td>\n",
       "      <td>83</td>\n",
       "      <td>48</td>\n",
       "    </tr>\n",
       "    <tr>\n",
       "      <th>3</th>\n",
       "      <td>97</td>\n",
       "      <td>146</td>\n",
       "      <td>60</td>\n",
       "    </tr>\n",
       "  </tbody>\n",
       "</table>\n",
       "</div>"
      ],
      "text/plain": [
       "Label                0    1  percent risky\n",
       "No Year no claims                         \n",
       "0                  113   74             39\n",
       "2                   87   83             48\n",
       "3                   97  146             60"
      ]
     },
     "execution_count": 25,
     "metadata": {},
     "output_type": "execute_result"
    }
   ],
   "source": [
    "dfl['percent risky']=((dfl[1]/(dfl[1]+dfl[0]))*100).astype(int)\n",
    "dfl"
   ]
  },
  {
   "cell_type": "code",
   "execution_count": 26,
   "metadata": {},
   "outputs": [],
   "source": [
    "# 'Average EuroNCAP Lane Deviation Score' and 'Driver Claim History Rating' are continuous variables. so need to use bins"
   ]
  },
  {
   "cell_type": "code",
   "execution_count": 27,
   "metadata": {},
   "outputs": [
    {
     "data": {
      "text/plain": [
       "count    600.000000\n",
       "mean       0.096533\n",
       "std        0.670280\n",
       "min       -2.230000\n",
       "25%       -0.372500\n",
       "50%        0.210000\n",
       "75%        0.510000\n",
       "max        1.360000\n",
       "Name: Average EuroNCAP Lane Deviation Score, dtype: float64"
      ]
     },
     "execution_count": 27,
     "metadata": {},
     "output_type": "execute_result"
    }
   ],
   "source": [
    "df['Average EuroNCAP Lane Deviation Score'].describe()"
   ]
  },
  {
   "cell_type": "code",
   "execution_count": 28,
   "metadata": {},
   "outputs": [
    {
     "data": {
      "text/plain": [
       "Text(0, 0.5, 'Number of cases')"
      ]
     },
     "execution_count": 28,
     "metadata": {},
     "output_type": "execute_result"
    },
    {
     "data": {
      "image/png": "[encoded data removed]",
      "text/plain": [
       "<Figure size 720x432 with 1 Axes>"
      ]
     },
     "metadata": {},
     "output_type": "display_data"
    }
   ],
   "source": [
    "plt.figure(figsize=(10,6))\n",
    "df[df['Label']==1]['Average EuroNCAP Lane Deviation Score'].hist(alpha=0.7,color='black', bins=10,label='Label=1')\n",
    "df[df['Label']==0]['Average EuroNCAP Lane Deviation Score'].hist(alpha=0.7,color='grey',bins=10,label='Label=0')\n",
    "                                                    \n",
    "plt.title('crashers across various deviation scores')                                                    \n",
    "plt.legend()\n",
    "plt.xlabel('deviation score')\n",
    "plt.ylabel('Number of cases')\n",
    "\n",
    "# at low deviation scores 1 group does not exist. at score 0, there seems to be a balance. \n",
    "# but as score goes up 1 becomes more prominent"
   ]
  },
  {
   "cell_type": "code",
   "execution_count": 29,
   "metadata": {},
   "outputs": [
    {
     "data": {
      "text/plain": [
       "Text(0, 0.5, 'Number of cases')"
      ]
     },
     "execution_count": 29,
     "metadata": {},
     "output_type": "execute_result"
    },
    {
     "data": {
      "image/png": "[encoded data removed]",
      "text/plain": [
       "<Figure size 720x432 with 1 Axes>"
      ]
     },
     "metadata": {},
     "output_type": "display_data"
    }
   ],
   "source": [
    "plt.figure(figsize=(10,6))\n",
    "df[df['Label']==1]['Driver Claim History Rating'].hist(alpha=0.7,color='black', bins=10,label='Label=1')\n",
    "df[df['Label']==0]['Driver Claim History Rating'].hist(alpha=0.7,color='grey', bins=10,label='Label=0')\n",
    "                                                    \n",
    "plt.title('crashers across various driver ratings')                                                    \n",
    "plt.legend()\n",
    "plt.xlabel('driver ratings')\n",
    "plt.ylabel('Number of cases')\n",
    "\n",
    "# for higher driver ratings 1 is more prominent. but not so much. i would say inconclusive\n",
    "# it seems that driver rating is not a great predictor of whether the person will experience a crash or not"
   ]
  },
  {
   "cell_type": "code",
   "execution_count": 30,
   "metadata": {},
   "outputs": [
    {
     "data": {
      "text/plain": [
       "Text(0, 0.5, 'Number of cases')"
      ]
     },
     "execution_count": 30,
     "metadata": {},
     "output_type": "execute_result"
    },
    {
     "data": {
      "image/png": "[encoded data removed]",
      "text/plain": [
       "<Figure size 720x432 with 1 Axes>"
      ]
     },
     "metadata": {},
     "output_type": "display_data"
    }
   ],
   "source": [
    "plt.figure(figsize=(10,6))\n",
    "df[df['Label']==1]['Frontal Impact (per 100,000 vehicles)'].hist(alpha=0.7,color='black', bins=10,label='Label=1')\n",
    "df[df['Label']==0]['Frontal Impact (per 100,000 vehicles)'].hist(alpha=0.7,color='grey', bins=10,label='Label=0')\n",
    "                                                    \n",
    "plt.title('crashers vs frontal impact')                                                    \n",
    "plt.legend()\n",
    "plt.xlabel('frontal impact')\n",
    "plt.ylabel('Number of cases')"
   ]
  },
  {
   "cell_type": "code",
   "execution_count": 31,
   "metadata": {},
   "outputs": [
    {
     "data": {
      "text/plain": [
       "Text(0, 0.5, 'Number of cases')"
      ]
     },
     "execution_count": 31,
     "metadata": {},
     "output_type": "execute_result"
    },
    {
     "data": {
      "image/png": "[encoded data removed]",
      "text/plain": [
       "<Figure size 720x432 with 1 Axes>"
      ]
     },
     "metadata": {},
     "output_type": "display_data"
    }
   ],
   "source": [
    "plt.figure(figsize=(10,6))\n",
    "df[df['Label']==1]['Rear Impact (per 100,000 vehicles)'].hist(alpha=0.7,color='black', bins=10,label='Label=1')\n",
    "df[df['Label']==0]['Rear Impact (per 100,000 vehicles)'].hist(alpha=0.7,color='grey', bins=10,label='Label=0')\n",
    "                                                    \n",
    "plt.title('crashers vs rear impact')                                                    \n",
    "plt.legend()\n",
    "plt.xlabel('rear impact')\n",
    "plt.ylabel('Number of cases')"
   ]
  },
  {
   "cell_type": "code",
   "execution_count": 32,
   "metadata": {},
   "outputs": [
    {
     "data": {
      "text/plain": [
       "Text(0, 0.5, 'Number of cases')"
      ]
     },
     "execution_count": 32,
     "metadata": {},
     "output_type": "execute_result"
    },
    {
     "data": {
      "image/png": "[encoded data removed]",
      "text/plain": [
       "<Figure size 720x432 with 1 Axes>"
      ]
     },
     "metadata": {},
     "output_type": "display_data"
    }
   ],
   "source": [
    "plt.figure(figsize=(10,6))\n",
    "df[df['Label']==1]['Front Offset Impact (per 100,000 vehicles)'].hist(alpha=0.7,color='black', bins=10,label='Label=1')\n",
    "df[df['Label']==0]['Front Offset Impact (per 100,000 vehicles)'].hist(alpha=0.7,color='grey', bins=10,label='Label=0')\n",
    "                                                    \n",
    "plt.title('crashers vs front offset')                                                    \n",
    "plt.legend()\n",
    "plt.xlabel('front offset')\n",
    "plt.ylabel('Number of cases')"
   ]
  },
  {
   "cell_type": "code",
   "execution_count": 33,
   "metadata": {},
   "outputs": [
    {
     "data": {
      "text/plain": [
       "Text(0, 0.5, 'Number of cases')"
      ]
     },
     "execution_count": 33,
     "metadata": {},
     "output_type": "execute_result"
    },
    {
     "data": {
      "image/png": "[encoded data removed]",
      "text/plain": [
       "<Figure size 720x432 with 1 Axes>"
      ]
     },
     "metadata": {},
     "output_type": "display_data"
    }
   ],
   "source": [
    "plt.figure(figsize=(10,6))\n",
    "df[df['Label']==1]['Side Impact (per 100,000 vehicles)'].hist(alpha=0.7,color='black', bins=10,label='Label=1')\n",
    "df[df['Label']==0]['Side Impact (per 100,000 vehicles)'].hist(alpha=0.7,color='grey', bins=10,label='Label=0')\n",
    "                                                    \n",
    "plt.title('crashers vs side impact')                                                    \n",
    "plt.legend()\n",
    "plt.xlabel('side impact')\n",
    "plt.ylabel('Number of cases')"
   ]
  },
  {
   "cell_type": "markdown",
   "metadata": {},
   "source": [
    "## scaling"
   ]
  },
  {
   "cell_type": "code",
   "execution_count": 34,
   "metadata": {},
   "outputs": [
    {
     "data": {
      "text/plain": [
       "Index(['Average EuroNCAP Lane Deviation Score', 'Driver Claim History Rating',\n",
       "       'No Year no claims', 'Gender', 'Frontal Impact (per 100,000 vehicles)',\n",
       "       'Rear Impact (per 100,000 vehicles)',\n",
       "       'Front Offset Impact (per 100,000 vehicles)',\n",
       "       'Side Impact (per 100,000 vehicles)', 'Total Impact', 'tcp', 'Label'],\n",
       "      dtype='object')"
      ]
     },
     "execution_count": 34,
     "metadata": {},
     "output_type": "execute_result"
    }
   ],
   "source": [
    "df.columns"
   ]
  },
  {
   "cell_type": "code",
   "execution_count": 35,
   "metadata": {},
   "outputs": [],
   "source": [
    "from sklearn import preprocessing\n",
    "scaler = preprocessing.MinMaxScaler()"
   ]
  },
  {
   "cell_type": "code",
   "execution_count": 36,
   "metadata": {},
   "outputs": [],
   "source": [
    "scalecols=['Average EuroNCAP Lane Deviation Score', 'Driver Claim History Rating',\n",
    "       'No Year no claims', 'Frontal Impact (per 100,000 vehicles)',\n",
    "       'Rear Impact (per 100,000 vehicles)',\n",
    "       'Front Offset Impact (per 100,000 vehicles)',\n",
    "       'Side Impact (per 100,000 vehicles)']"
   ]
  },
  {
   "cell_type": "code",
   "execution_count": 37,
   "metadata": {},
   "outputs": [],
   "source": [
    "df[scalecols] = scaler.fit_transform(df[scalecols])"
   ]
  },
  {
   "cell_type": "code",
   "execution_count": 38,
   "metadata": {},
   "outputs": [
    {
     "data": {
      "text/html": [
       "<div>\n",
       "<style scoped>\n",
       "    .dataframe tbody tr th:only-of-type {\n",
       "        vertical-align: middle;\n",
       "    }\n",
       "\n",
       "    .dataframe tbody tr th {\n",
       "        vertical-align: top;\n",
       "    }\n",
       "\n",
       "    .dataframe thead th {\n",
       "        text-align: right;\n",
       "    }\n",
       "</style>\n",
       "<table border=\"1\" class=\"dataframe\">\n",
       "  <thead>\n",
       "    <tr style=\"text-align: right;\">\n",
       "      <th></th>\n",
       "      <th>Average EuroNCAP Lane Deviation Score</th>\n",
       "      <th>Driver Claim History Rating</th>\n",
       "      <th>No Year no claims</th>\n",
       "      <th>Gender</th>\n",
       "      <th>Frontal Impact (per 100,000 vehicles)</th>\n",
       "      <th>Rear Impact (per 100,000 vehicles)</th>\n",
       "      <th>Front Offset Impact (per 100,000 vehicles)</th>\n",
       "      <th>Side Impact (per 100,000 vehicles)</th>\n",
       "      <th>Total Impact</th>\n",
       "      <th>tcp</th>\n",
       "      <th>Label</th>\n",
       "    </tr>\n",
       "  </thead>\n",
       "  <tbody>\n",
       "    <tr>\n",
       "      <th>0</th>\n",
       "      <td>0.387187</td>\n",
       "      <td>0.624672</td>\n",
       "      <td>1.000000</td>\n",
       "      <td>Male</td>\n",
       "      <td>0.555556</td>\n",
       "      <td>0.9375</td>\n",
       "      <td>0.290618</td>\n",
       "      <td>0.551867</td>\n",
       "      <td>216.4</td>\n",
       "      <td>0.000541</td>\n",
       "      <td>1</td>\n",
       "    </tr>\n",
       "    <tr>\n",
       "      <th>1</th>\n",
       "      <td>0.515320</td>\n",
       "      <td>0.564304</td>\n",
       "      <td>0.666667</td>\n",
       "      <td>Male</td>\n",
       "      <td>0.721174</td>\n",
       "      <td>0.4375</td>\n",
       "      <td>0.295195</td>\n",
       "      <td>0.551867</td>\n",
       "      <td>203.7</td>\n",
       "      <td>0.000509</td>\n",
       "      <td>0</td>\n",
       "    </tr>\n",
       "    <tr>\n",
       "      <th>2</th>\n",
       "      <td>0.869081</td>\n",
       "      <td>0.842520</td>\n",
       "      <td>0.666667</td>\n",
       "      <td>Female</td>\n",
       "      <td>0.677149</td>\n",
       "      <td>0.7500</td>\n",
       "      <td>0.885584</td>\n",
       "      <td>0.663900</td>\n",
       "      <td>245.8</td>\n",
       "      <td>0.000615</td>\n",
       "      <td>1</td>\n",
       "    </tr>\n",
       "    <tr>\n",
       "      <th>3</th>\n",
       "      <td>0.818942</td>\n",
       "      <td>0.761155</td>\n",
       "      <td>0.666667</td>\n",
       "      <td>Female</td>\n",
       "      <td>0.721174</td>\n",
       "      <td>0.7500</td>\n",
       "      <td>0.524027</td>\n",
       "      <td>0.663900</td>\n",
       "      <td>232.1</td>\n",
       "      <td>0.000580</td>\n",
       "      <td>1</td>\n",
       "    </tr>\n",
       "    <tr>\n",
       "      <th>4</th>\n",
       "      <td>0.442897</td>\n",
       "      <td>0.695538</td>\n",
       "      <td>1.000000</td>\n",
       "      <td>Male</td>\n",
       "      <td>0.278826</td>\n",
       "      <td>0.5000</td>\n",
       "      <td>0.151030</td>\n",
       "      <td>0.213693</td>\n",
       "      <td>162.6</td>\n",
       "      <td>0.000407</td>\n",
       "      <td>0</td>\n",
       "    </tr>\n",
       "  </tbody>\n",
       "</table>\n",
       "</div>"
      ],
      "text/plain": [
       "   Average EuroNCAP Lane Deviation Score  Driver Claim History Rating  \\\n",
       "0                               0.387187                     0.624672   \n",
       "1                               0.515320                     0.564304   \n",
       "2                               0.869081                     0.842520   \n",
       "3                               0.818942                     0.761155   \n",
       "4                               0.442897                     0.695538   \n",
       "\n",
       "   No Year no claims  Gender  Frontal Impact (per 100,000 vehicles)  \\\n",
       "0           1.000000    Male                               0.555556   \n",
       "1           0.666667    Male                               0.721174   \n",
       "2           0.666667  Female                               0.677149   \n",
       "3           0.666667  Female                               0.721174   \n",
       "4           1.000000    Male                               0.278826   \n",
       "\n",
       "   Rear Impact (per 100,000 vehicles)  \\\n",
       "0                              0.9375   \n",
       "1                              0.4375   \n",
       "2                              0.7500   \n",
       "3                              0.7500   \n",
       "4                              0.5000   \n",
       "\n",
       "   Front Offset Impact (per 100,000 vehicles)  \\\n",
       "0                                    0.290618   \n",
       "1                                    0.295195   \n",
       "2                                    0.885584   \n",
       "3                                    0.524027   \n",
       "4                                    0.151030   \n",
       "\n",
       "   Side Impact (per 100,000 vehicles)  Total Impact       tcp  Label  \n",
       "0                            0.551867         216.4  0.000541      1  \n",
       "1                            0.551867         203.7  0.000509      0  \n",
       "2                            0.663900         245.8  0.000615      1  \n",
       "3                            0.663900         232.1  0.000580      1  \n",
       "4                            0.213693         162.6  0.000407      0  "
      ]
     },
     "execution_count": 38,
     "metadata": {},
     "output_type": "execute_result"
    }
   ],
   "source": [
    "df.head()"
   ]
  },
  {
   "cell_type": "markdown",
   "metadata": {},
   "source": [
    "# the models"
   ]
  },
  {
   "cell_type": "code",
   "execution_count": 39,
   "metadata": {},
   "outputs": [],
   "source": [
    "df=pd.get_dummies(df, columns=['Gender'], drop_first=False)"
   ]
  },
  {
   "cell_type": "code",
   "execution_count": 40,
   "metadata": {},
   "outputs": [
    {
     "data": {
      "text/plain": [
       "Index(['Average EuroNCAP Lane Deviation Score', 'Driver Claim History Rating',\n",
       "       'No Year no claims', 'Frontal Impact (per 100,000 vehicles)',\n",
       "       'Rear Impact (per 100,000 vehicles)',\n",
       "       'Front Offset Impact (per 100,000 vehicles)',\n",
       "       'Side Impact (per 100,000 vehicles)', 'Total Impact', 'tcp', 'Label',\n",
       "       'Gender_Female', 'Gender_Male'],\n",
       "      dtype='object')"
      ]
     },
     "execution_count": 40,
     "metadata": {},
     "output_type": "execute_result"
    }
   ],
   "source": [
    "df.columns"
   ]
  },
  {
   "cell_type": "code",
   "execution_count": 41,
   "metadata": {},
   "outputs": [],
   "source": [
    "Features = ['Average EuroNCAP Lane Deviation Score', 'Driver Claim History Rating',\n",
    "       'No Year no claims', 'Gender_Female', 'Gender_Male','Frontal Impact (per 100,000 vehicles)',\n",
    "       'Rear Impact (per 100,000 vehicles)',\n",
    "       'Front Offset Impact (per 100,000 vehicles)',\n",
    "       'Side Impact (per 100,000 vehicles)']"
   ]
  },
  {
   "cell_type": "code",
   "execution_count": 42,
   "metadata": {},
   "outputs": [],
   "source": [
    "Label = ['Label']"
   ]
  },
  {
   "cell_type": "code",
   "execution_count": 43,
   "metadata": {},
   "outputs": [],
   "source": [
    "Features = ['Average EuroNCAP Lane Deviation Score', 'Driver Claim History Rating',\n",
    "       'No Year no claims', 'Gender_Female', 'Gender_Male','Frontal Impact (per 100,000 vehicles)',\n",
    "       'Rear Impact (per 100,000 vehicles)',\n",
    "       'Front Offset Impact (per 100,000 vehicles)',\n",
    "       'Side Impact (per 100,000 vehicles)']\n",
    "\n",
    "Label = ['Label']\n",
    "\n",
    "from sklearn import model_selection\n",
    "from sklearn.model_selection import train_test_split\n",
    "\n",
    "train, test = train_test_split(df, test_size = 0.3, random_state=21)\n",
    "train = train.reset_index(drop=True)\n",
    "test = test.reset_index(drop=True)\n",
    "\n",
    "features_train = train[Features]\n",
    "label_train = train[Label]\n",
    "features_test = test[Features]\n",
    "label_test = test[Label]"
   ]
  },
  {
   "cell_type": "code",
   "execution_count": 44,
   "metadata": {},
   "outputs": [
    {
     "name": "stderr",
     "output_type": "stream",
     "text": [
      "/Users/jr/opt/anaconda3/lib/python3.7/site-packages/ipykernel_launcher.py:4: DataConversionWarning: A column-vector y was passed when a 1d array was expected. Please change the shape of y to (n_samples,), for example using ravel().\n",
      "  after removing the cwd from sys.path.\n"
     ]
    },
    {
     "name": "stdout",
     "output_type": "stream",
     "text": [
      "1.00 0.96\n"
     ]
    }
   ],
   "source": [
    "from sklearn.ensemble import RandomForestClassifier\n",
    "clf = RandomForestClassifier()\n",
    "\n",
    "clf.fit(features_train,label_train)\n",
    "\n",
    "pred_train = clf.predict(features_train)\n",
    "pred_test = clf.predict(features_test)\n",
    "\n",
    "from sklearn.metrics import accuracy_score\n",
    "accuracy_train = accuracy_score(pred_train,label_train)\n",
    "accuracy_test = accuracy_score(pred_test,label_test)\n",
    "\n",
    "\n",
    "print(\"{:.2f}\".format(accuracy_train),\"{:.2f}\".format(accuracy_test))"
   ]
  },
  {
   "cell_type": "code",
   "execution_count": 45,
   "metadata": {},
   "outputs": [
    {
     "name": "stdout",
     "output_type": "stream",
     "text": [
      "Accuracy Score\n",
      "0.9611111111111111 \n",
      "\n",
      "Precision Score\n",
      "[0.96511628 0.95744681] \n",
      "\n",
      "Confusion Matrix\n",
      "    0   1\n",
      "0  83   4\n",
      "1   3  90 \n",
      "\n",
      "Classification Report\n",
      "              precision    recall  f1-score   support\n",
      "\n",
      "           0       0.97      0.95      0.96        87\n",
      "           1       0.96      0.97      0.96        93\n",
      "\n",
      "    accuracy                           0.96       180\n",
      "   macro avg       0.96      0.96      0.96       180\n",
      "weighted avg       0.96      0.96      0.96       180\n",
      " \n",
      "\n"
     ]
    }
   ],
   "source": [
    "from sklearn.metrics import classification_report\n",
    "from sklearn.metrics import confusion_matrix\n",
    "from sklearn.metrics import accuracy_score, f1_score, precision_score, recall_score\n",
    "\n",
    "print('Accuracy Score')\n",
    "print(accuracy_score(label_test, pred_test),'\\n')\n",
    "\n",
    "print('Precision Score')\n",
    "print(precision_score(label_test, pred_test,average = None),'\\n')\n",
    "\n",
    "print('Confusion Matrix')\n",
    "array = confusion_matrix(label_test, pred_test)\n",
    "columns = ['0','1'] \n",
    "print(pd.DataFrame(array,columns = columns, index = columns),'\\n')\n",
    "\n",
    "print('Classification Report')\n",
    "print(classification_report(label_test, pred_test),'\\n')"
   ]
  },
  {
   "cell_type": "code",
   "execution_count": 46,
   "metadata": {},
   "outputs": [
    {
     "data": {
      "text/plain": [
       "<matplotlib.axes._subplots.AxesSubplot at 0x7fbc0a98b4d0>"
      ]
     },
     "execution_count": 46,
     "metadata": {},
     "output_type": "execute_result"
    },
    {
     "data": {
      "image/png": "[encoded data removed]",
      "text/plain": [
       "<Figure size 864x648 with 1 Axes>"
      ]
     },
     "metadata": {},
     "output_type": "display_data"
    }
   ],
   "source": [
    "dfrf=pd.DataFrame({'features':features_train.columns,'importances':clf.feature_importances_})\n",
    "dfrf.sort_values('importances',inplace=True)\n",
    "dfrf.plot(kind='barh', title = 'RF Classifier\\nFeature Importances', y='importances',x='features',color='brown', figsize=(12,9))"
   ]
  },
  {
   "cell_type": "code",
   "execution_count": 47,
   "metadata": {},
   "outputs": [
    {
     "name": "stdout",
     "output_type": "stream",
     "text": [
      "0.99 0.97\n"
     ]
    },
    {
     "name": "stderr",
     "output_type": "stream",
     "text": [
      "/Users/jr/opt/anaconda3/lib/python3.7/site-packages/sklearn/utils/validation.py:73: DataConversionWarning: A column-vector y was passed when a 1d array was expected. Please change the shape of y to (n_samples, ), for example using ravel().\n",
      "  return f(**kwargs)\n"
     ]
    }
   ],
   "source": [
    "from sklearn.linear_model import LogisticRegression\n",
    "LRclf = LogisticRegression()\n",
    "\n",
    "LRclf.fit(features_train,label_train)\n",
    "\n",
    "pred_train = LRclf.predict(features_train)\n",
    "pred_test = LRclf.predict(features_test)\n",
    "\n",
    "from sklearn.metrics import accuracy_score\n",
    "accuracy_train = accuracy_score(pred_train,label_train)\n",
    "accuracy_test = accuracy_score(pred_test,label_test)\n",
    "\n",
    "\n",
    "print(\"{:.2f}\".format(accuracy_train),\"{:.2f}\".format(accuracy_test))"
   ]
  },
  {
   "cell_type": "code",
   "execution_count": 48,
   "metadata": {},
   "outputs": [
    {
     "name": "stdout",
     "output_type": "stream",
     "text": [
      "Accuracy Score\n",
      "0.9722222222222222 \n",
      "\n",
      "Precision Score\n",
      "[0.97674419 0.96808511] \n",
      "\n",
      "Confusion Matrix\n",
      "    0   1\n",
      "0  84   3\n",
      "1   2  91 \n",
      "\n",
      "Classification Report\n",
      "              precision    recall  f1-score   support\n",
      "\n",
      "           0       0.98      0.97      0.97        87\n",
      "           1       0.97      0.98      0.97        93\n",
      "\n",
      "    accuracy                           0.97       180\n",
      "   macro avg       0.97      0.97      0.97       180\n",
      "weighted avg       0.97      0.97      0.97       180\n",
      " \n",
      "\n"
     ]
    }
   ],
   "source": [
    "from sklearn.metrics import classification_report\n",
    "from sklearn.metrics import confusion_matrix\n",
    "from sklearn.metrics import accuracy_score, f1_score, precision_score, recall_score\n",
    "\n",
    "print('Accuracy Score')\n",
    "print(accuracy_score(label_test, pred_test),'\\n')\n",
    "\n",
    "print('Precision Score')\n",
    "print(precision_score(label_test, pred_test,average = None),'\\n')\n",
    "\n",
    "print('Confusion Matrix')\n",
    "array = confusion_matrix(label_test, pred_test)\n",
    "columns = ['0','1'] \n",
    "print(pd.DataFrame(array,columns = columns, index = columns),'\\n')\n",
    "\n",
    "print('Classification Report')\n",
    "print(classification_report(label_test, pred_test),'\\n')"
   ]
  },
  {
   "cell_type": "code",
   "execution_count": 49,
   "metadata": {},
   "outputs": [],
   "source": [
    "from sklearn.metrics import log_loss"
   ]
  },
  {
   "cell_type": "code",
   "execution_count": 50,
   "metadata": {},
   "outputs": [
    {
     "data": {
      "text/plain": [
       "0.9594237820380233"
      ]
     },
     "execution_count": 50,
     "metadata": {},
     "output_type": "execute_result"
    }
   ],
   "source": [
    "log_loss(label_test, pred_test)\n"
   ]
  },
  {
   "cell_type": "code",
   "execution_count": 51,
   "metadata": {},
   "outputs": [
    {
     "name": "stdout",
     "output_type": "stream",
     "text": [
      "1.00 0.90\n"
     ]
    }
   ],
   "source": [
    "from sklearn.tree import DecisionTreeClassifier\n",
    "\n",
    "tree = DecisionTreeClassifier(random_state=0)\n",
    "tree.fit(features_train, label_train)\n",
    "\n",
    "# predict train set\n",
    "pred_train=tree.predict(features_train)\n",
    "# predict test set\n",
    "pred_test=tree.predict(features_test)\n",
    "\n",
    "from sklearn.metrics import accuracy_score\n",
    "accuracy_train = accuracy_score(pred_train,label_train)\n",
    "accuracy_test = accuracy_score(pred_test,label_test)\n",
    "\n",
    "\n",
    "print(\"{:.2f}\".format(accuracy_train),\"{:.2f}\".format(accuracy_test))"
   ]
  },
  {
   "cell_type": "code",
   "execution_count": 52,
   "metadata": {},
   "outputs": [
    {
     "data": {
      "text/plain": [
       "<matplotlib.axes._subplots.AxesSubplot at 0x7fbc0b296310>"
      ]
     },
     "execution_count": 52,
     "metadata": {},
     "output_type": "execute_result"
    },
    {
     "data": {
      "image/png": "[encoded data removed]",
      "text/plain": [
       "<Figure size 864x648 with 1 Axes>"
      ]
     },
     "metadata": {},
     "output_type": "display_data"
    }
   ],
   "source": [
    "dfz=pd.DataFrame({'features':features_train.columns,'importances':tree.feature_importances_})\n",
    "dfz.sort_values('importances',inplace=True)\n",
    "dfz.plot(kind='barh', title = 'Decision Tree Classifier\\nFeature Importances', y='importances',x='features',color='brown', figsize=(12,9))"
   ]
  },
  {
   "cell_type": "markdown",
   "metadata": {},
   "source": [
    "## trying models after individual crash frequencies are removed"
   ]
  },
  {
   "cell_type": "code",
   "execution_count": 53,
   "metadata": {},
   "outputs": [],
   "source": [
    "Features = ['Average EuroNCAP Lane Deviation Score', 'Driver Claim History Rating',\n",
    "       'No Year no claims', 'Gender_Female', 'Gender_Male']\n",
    "\n",
    "Label = ['Label']\n",
    "\n",
    "\n",
    "from sklearn import model_selection\n",
    "from sklearn.model_selection import train_test_split\n",
    "\n",
    "train, test = train_test_split(df, test_size = 0.3, random_state=21)\n",
    "train = train.reset_index(drop=True)\n",
    "test = test.reset_index(drop=True)\n",
    "\n",
    "features_train = train[Features]\n",
    "label_train = train[Label]\n",
    "features_test = test[Features]\n",
    "label_test = test[Label]"
   ]
  },
  {
   "cell_type": "code",
   "execution_count": 54,
   "metadata": {},
   "outputs": [
    {
     "name": "stderr",
     "output_type": "stream",
     "text": [
      "/Users/jr/opt/anaconda3/lib/python3.7/site-packages/ipykernel_launcher.py:4: DataConversionWarning: A column-vector y was passed when a 1d array was expected. Please change the shape of y to (n_samples,), for example using ravel().\n",
      "  after removing the cwd from sys.path.\n"
     ]
    },
    {
     "name": "stdout",
     "output_type": "stream",
     "text": [
      "0.97 0.57\n"
     ]
    }
   ],
   "source": [
    "from sklearn.ensemble import RandomForestClassifier\n",
    "clf = RandomForestClassifier()\n",
    "\n",
    "clf.fit(features_train,label_train)\n",
    "\n",
    "pred_train = clf.predict(features_train)\n",
    "pred_test = clf.predict(features_test)\n",
    "\n",
    "from sklearn.metrics import accuracy_score\n",
    "accuracy_train = accuracy_score(pred_train,label_train)\n",
    "accuracy_test = accuracy_score(pred_test,label_test)\n",
    "\n",
    "\n",
    "print(\"{:.2f}\".format(accuracy_train),\"{:.2f}\".format(accuracy_test))"
   ]
  },
  {
   "cell_type": "code",
   "execution_count": 55,
   "metadata": {},
   "outputs": [
    {
     "name": "stdout",
     "output_type": "stream",
     "text": [
      "Accuracy Score\n",
      "0.5722222222222222 \n",
      "\n",
      "Precision Score\n",
      "[0.55434783 0.59090909] \n",
      "\n",
      "Confusion Matrix\n",
      "    0   1\n",
      "0  51  36\n",
      "1  41  52 \n",
      "\n",
      "Classification Report\n",
      "              precision    recall  f1-score   support\n",
      "\n",
      "           0       0.55      0.59      0.57        87\n",
      "           1       0.59      0.56      0.57        93\n",
      "\n",
      "    accuracy                           0.57       180\n",
      "   macro avg       0.57      0.57      0.57       180\n",
      "weighted avg       0.57      0.57      0.57       180\n",
      " \n",
      "\n"
     ]
    }
   ],
   "source": [
    "from sklearn.metrics import classification_report\n",
    "from sklearn.metrics import confusion_matrix\n",
    "from sklearn.metrics import accuracy_score, f1_score, precision_score, recall_score\n",
    "\n",
    "print('Accuracy Score')\n",
    "print(accuracy_score(label_test, pred_test),'\\n')\n",
    "\n",
    "print('Precision Score')\n",
    "print(precision_score(label_test, pred_test,average = None),'\\n')\n",
    "\n",
    "print('Confusion Matrix')\n",
    "array = confusion_matrix(label_test, pred_test)\n",
    "columns = ['0','1'] \n",
    "print(pd.DataFrame(array,columns = columns, index = columns),'\\n')\n",
    "\n",
    "print('Classification Report')\n",
    "print(classification_report(label_test, pred_test),'\\n')"
   ]
  },
  {
   "cell_type": "code",
   "execution_count": 56,
   "metadata": {},
   "outputs": [
    {
     "data": {
      "text/plain": [
       "<matplotlib.axes._subplots.AxesSubplot at 0x7fbc0b3054d0>"
      ]
     },
     "execution_count": 56,
     "metadata": {},
     "output_type": "execute_result"
    },
    {
     "data": {
      "image/png": "[encoded data removed]",
      "text/plain": [
       "<Figure size 864x648 with 1 Axes>"
      ]
     },
     "metadata": {},
     "output_type": "display_data"
    }
   ],
   "source": [
    "dfrf=pd.DataFrame({'features':features_train.columns,'importances':clf.feature_importances_})\n",
    "dfrf.sort_values('importances',inplace=True)\n",
    "dfrf.plot(kind='barh', title = 'RF Classifier\\nFeature Importances', y='importances', x='features',color='brown', figsize=(12,9))"
   ]
  },
  {
   "cell_type": "code",
   "execution_count": null,
   "metadata": {},
   "outputs": [],
   "source": []
  },
  {
   "cell_type": "markdown",
   "metadata": {},
   "source": [
    "# Classification whether risky or not risky (yes/no) above\n",
    "# Predicting levels of crash frequencies (how much) below"
   ]
  },
  {
   "cell_type": "code",
   "execution_count": 57,
   "metadata": {},
   "outputs": [],
   "source": [
    "# reading data from the file\n",
    "\n",
    "df = pd.read_excel('crashdata.xlsx')"
   ]
  },
  {
   "cell_type": "code",
   "execution_count": 58,
   "metadata": {},
   "outputs": [
    {
     "data": {
      "text/plain": [
       "Index(['Average EuroNCAP Lane Deviation Score', 'Driver Claim History Rating',\n",
       "       'No Year no claims', 'Gender', 'Frontal Impact (per 100,000 vehicles)',\n",
       "       'Rear Impact (per 100,000 vehicles)',\n",
       "       'Front Offset Impact (per 100,000 vehicles)',\n",
       "       'Side Impact (per 100,000 vehicles)'],\n",
       "      dtype='object')"
      ]
     },
     "execution_count": 58,
     "metadata": {},
     "output_type": "execute_result"
    }
   ],
   "source": [
    "df.columns"
   ]
  },
  {
   "cell_type": "code",
   "execution_count": 59,
   "metadata": {},
   "outputs": [],
   "source": [
    "df['Total Impact'] = df['Frontal Impact (per 100,000 vehicles)'] + df['Rear Impact (per 100,000 vehicles)'] + df['Front Offset Impact (per 100,000 vehicles)'] + df['Side Impact (per 100,000 vehicles)']"
   ]
  },
  {
   "cell_type": "code",
   "execution_count": 60,
   "metadata": {},
   "outputs": [],
   "source": [
    "from sklearn.preprocessing import LabelEncoder\n",
    "le = LabelEncoder()\n",
    "df.Gender = le.fit_transform(df.Gender)"
   ]
  },
  {
   "cell_type": "code",
   "execution_count": 61,
   "metadata": {},
   "outputs": [
    {
     "data": {
      "text/html": [
       "<div>\n",
       "<style scoped>\n",
       "    .dataframe tbody tr th:only-of-type {\n",
       "        vertical-align: middle;\n",
       "    }\n",
       "\n",
       "    .dataframe tbody tr th {\n",
       "        vertical-align: top;\n",
       "    }\n",
       "\n",
       "    .dataframe thead th {\n",
       "        text-align: right;\n",
       "    }\n",
       "</style>\n",
       "<table border=\"1\" class=\"dataframe\">\n",
       "  <thead>\n",
       "    <tr style=\"text-align: right;\">\n",
       "      <th></th>\n",
       "      <th>Average EuroNCAP Lane Deviation Score</th>\n",
       "      <th>Driver Claim History Rating</th>\n",
       "      <th>No Year no claims</th>\n",
       "      <th>Gender</th>\n",
       "      <th>Frontal Impact (per 100,000 vehicles)</th>\n",
       "      <th>Rear Impact (per 100,000 vehicles)</th>\n",
       "      <th>Front Offset Impact (per 100,000 vehicles)</th>\n",
       "      <th>Side Impact (per 100,000 vehicles)</th>\n",
       "      <th>Total Impact</th>\n",
       "    </tr>\n",
       "  </thead>\n",
       "  <tbody>\n",
       "    <tr>\n",
       "      <th>0</th>\n",
       "      <td>-0.84</td>\n",
       "      <td>-0.24</td>\n",
       "      <td>3</td>\n",
       "      <td>1</td>\n",
       "      <td>54.8</td>\n",
       "      <td>64.5</td>\n",
       "      <td>44.5</td>\n",
       "      <td>52.6</td>\n",
       "      <td>216.4</td>\n",
       "    </tr>\n",
       "    <tr>\n",
       "      <th>1</th>\n",
       "      <td>-0.38</td>\n",
       "      <td>-0.47</td>\n",
       "      <td>2</td>\n",
       "      <td>1</td>\n",
       "      <td>62.7</td>\n",
       "      <td>43.7</td>\n",
       "      <td>44.7</td>\n",
       "      <td>52.6</td>\n",
       "      <td>203.7</td>\n",
       "    </tr>\n",
       "    <tr>\n",
       "      <th>2</th>\n",
       "      <td>0.89</td>\n",
       "      <td>0.59</td>\n",
       "      <td>2</td>\n",
       "      <td>0</td>\n",
       "      <td>60.6</td>\n",
       "      <td>56.7</td>\n",
       "      <td>70.5</td>\n",
       "      <td>58.0</td>\n",
       "      <td>245.8</td>\n",
       "    </tr>\n",
       "    <tr>\n",
       "      <th>3</th>\n",
       "      <td>0.71</td>\n",
       "      <td>0.28</td>\n",
       "      <td>2</td>\n",
       "      <td>0</td>\n",
       "      <td>62.7</td>\n",
       "      <td>56.7</td>\n",
       "      <td>54.7</td>\n",
       "      <td>58.0</td>\n",
       "      <td>232.1</td>\n",
       "    </tr>\n",
       "    <tr>\n",
       "      <th>4</th>\n",
       "      <td>-0.64</td>\n",
       "      <td>0.03</td>\n",
       "      <td>3</td>\n",
       "      <td>1</td>\n",
       "      <td>41.6</td>\n",
       "      <td>46.3</td>\n",
       "      <td>38.4</td>\n",
       "      <td>36.3</td>\n",
       "      <td>162.6</td>\n",
       "    </tr>\n",
       "  </tbody>\n",
       "</table>\n",
       "</div>"
      ],
      "text/plain": [
       "   Average EuroNCAP Lane Deviation Score  Driver Claim History Rating  \\\n",
       "0                                  -0.84                        -0.24   \n",
       "1                                  -0.38                        -0.47   \n",
       "2                                   0.89                         0.59   \n",
       "3                                   0.71                         0.28   \n",
       "4                                  -0.64                         0.03   \n",
       "\n",
       "   No Year no claims  Gender  Frontal Impact (per 100,000 vehicles)  \\\n",
       "0                  3       1                                   54.8   \n",
       "1                  2       1                                   62.7   \n",
       "2                  2       0                                   60.6   \n",
       "3                  2       0                                   62.7   \n",
       "4                  3       1                                   41.6   \n",
       "\n",
       "   Rear Impact (per 100,000 vehicles)  \\\n",
       "0                                64.5   \n",
       "1                                43.7   \n",
       "2                                56.7   \n",
       "3                                56.7   \n",
       "4                                46.3   \n",
       "\n",
       "   Front Offset Impact (per 100,000 vehicles)  \\\n",
       "0                                        44.5   \n",
       "1                                        44.7   \n",
       "2                                        70.5   \n",
       "3                                        54.7   \n",
       "4                                        38.4   \n",
       "\n",
       "   Side Impact (per 100,000 vehicles)  Total Impact  \n",
       "0                                52.6         216.4  \n",
       "1                                52.6         203.7  \n",
       "2                                58.0         245.8  \n",
       "3                                58.0         232.1  \n",
       "4                                36.3         162.6  "
      ]
     },
     "execution_count": 61,
     "metadata": {},
     "output_type": "execute_result"
    }
   ],
   "source": [
    "df.head()"
   ]
  },
  {
   "cell_type": "code",
   "execution_count": 62,
   "metadata": {},
   "outputs": [],
   "source": [
    "from sklearn import linear_model\n",
    "from sklearn.metrics import mean_squared_error, r2_score\n",
    "from sklearn import model_selection"
   ]
  },
  {
   "cell_type": "code",
   "execution_count": 63,
   "metadata": {},
   "outputs": [],
   "source": [
    "Xs = df[['Average EuroNCAP Lane Deviation Score', 'Driver Claim History Rating',\n",
    "       'No Year no claims', 'Gender']].values\n",
    "\n",
    "Ys =df[['Total Impact']].values"
   ]
  },
  {
   "cell_type": "code",
   "execution_count": 64,
   "metadata": {},
   "outputs": [],
   "source": [
    "test_percentage = 0.30\n",
    "seed = 21\n",
    "\n",
    "# Split-out validation dataset\n",
    "X_train, X_test, Y_train, Y_test = model_selection.train_test_split(Xs, Ys, test_size=test_percentage, random_state=seed)"
   ]
  },
  {
   "cell_type": "code",
   "execution_count": 65,
   "metadata": {},
   "outputs": [
    {
     "name": "stdout",
     "output_type": "stream",
     "text": [
      "Coefficients: \n",
      " [[17.08548538 -1.12643002  4.75369633 -5.31887114]]\n",
      "Intercept / constant:\n",
      " [199.94891719]\n",
      "Mean squared error: 872.82\n",
      "R-Square: 0.22\n"
     ]
    }
   ],
   "source": [
    "regr = linear_model.LinearRegression() \n",
    "regr.fit(X_train, Y_train)\n",
    "Y_pred = regr.predict(X_test)\n",
    "\n",
    "\n",
    "# The coefficients\n",
    "print('Coefficients: \\n', regr.coef_)\n",
    "print('Intercept / constant:\\n',regr.intercept_)\n",
    "\n",
    "# The mean squared error\n",
    "print(\"Mean squared error: %.2f\"\n",
    "      % mean_squared_error(Y_test, Y_pred))\n",
    "\n",
    "# Explained variance score: 1 is perfect prediction\n",
    "print('R-Square: %.2f' % r2_score(Y_test, Y_pred))"
   ]
  }
 ],
 "metadata": {
  "kernelspec": {
   "display_name": "Python 3",
   "language": "python",
   "name": "python3"
  },
  "language_info": {
   "codemirror_mode": {
    "name": "ipython",
    "version": 3
   },
   "file_extension": ".py",
   "mimetype": "text/x-python",
   "name": "python",
   "nbconvert_exporter": "python",
   "pygments_lexer": "ipython3",
   "version": "3.7.7"
  }
 },
 "nbformat": 4,
 "nbformat_minor": 4
}
